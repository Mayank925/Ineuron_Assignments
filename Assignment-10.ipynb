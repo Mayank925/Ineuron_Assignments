{
 "cells": [
  {
   "cell_type": "raw",
   "metadata": {},
   "source": [
    "1. How do you distinguish between shutil.copy() and shutil.copytree()?\n",
    "\n",
    "The shutil.copy() function is used to copy a single file from one location to another. The shutil.copytree() function is used to copy an entire folder (including all files and subdirectories) from one location to another.\n",
    "\n",
    "2. What function is used to rename files??\n",
    "\n",
    "The os.rename() function is used to rename files. It takes two arguments: the old file name and the new file name.\n",
    "\n",
    "3. What is the difference between the delete functions in the send2trash and shutil modules?\n",
    "\n",
    "The delete function in the send2trash module sends files to the system trash or recycle bin, allowing the user to recover them later if needed. The delete function in the shutil module permanently deletes files, with no option for recovery.\n",
    "\n",
    "4. ZipFile objects have a close() method just like File objects’ close() method. What ZipFile method is equivalent to File objects’ open() method?\n",
    "\n",
    "The ZipFile method that is equivalent to File objects’ open() method is the ZipFile() method. It is used to create a new ZipFile object that can be used to read or write to a ZIP archive.\n",
    "\n"
   ]
  },
  {
   "cell_type": "code",
   "execution_count": null,
   "metadata": {},
   "outputs": [],
   "source": [
    "## 5. Create a programme that searches a folder tree for files with a certain file extension (such as .pdf or .jpg). \n",
    "## Copy these files from whatever location they are in to a new folder.\n",
    "import os\n",
    "import shutil\n",
    "\n",
    "# Set the folder to search for files\n",
    "search_folder = 'C:\\Users\\Mankyy\\Desktop\\Neuron Assignment'\n",
    "\n",
    "# Set the folder to copy the files to\n",
    "copy_folder = 'C:\\Users\\Mankyy\\Desktop\\Neuron Assignment\\Copy'\n",
    "\n",
    "# Set the file extension to search for\n",
    "file_extension = '.pdf'\n",
    "\n",
    "# Iterate through all files and directories in the search folder\n",
    "for foldername, subfolders, filenames in os.walk(search_folder):\n",
    "    # Iterate through all filenames in the current folder\n",
    "    for filename in filenames:\n",
    "        # If the file has the correct extension, copy it to the new folder\n",
    "        if filename.endswith(file_extension):\n",
    "            source_file = os.path.join(foldername, filename)\n",
    "            destination_file = os.path.join(copy_folder, filename)\n",
    "            shutil.copy(source_file, destination_file)\n"
   ]
  }
 ],
 "metadata": {
  "kernelspec": {
   "display_name": "Python 3",
   "language": "python",
   "name": "python3"
  },
  "language_info": {
   "codemirror_mode": {
    "name": "ipython",
    "version": 3
   },
   "file_extension": ".py",
   "mimetype": "text/x-python",
   "name": "python",
   "nbconvert_exporter": "python",
   "pygments_lexer": "ipython3",
   "version": "3.8.5"
  }
 },
 "nbformat": 4,
 "nbformat_minor": 4
}
