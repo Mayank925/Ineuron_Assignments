{
 "cells": [
  {
   "cell_type": "raw",
   "metadata": {},
   "source": [
    "1. In what modes should the PdfFileReader() and PdfFileWriter() File objects will be opened?\n",
    "\n",
    "Both PdfFileReader() and PdfFileWriter() File objects should be opened in binary mode ('rb' for reading and 'wb' for writing).\n",
    "\n",
    "2. From a PdfFileReader object, how do you get a Page object for page 5?\n",
    "\n",
    "To get a Page object for page 5 from a PdfFileReader object, use the getPage() method and pass 4 as the index (since page numbering starts from 0): \n",
    "page_5 = pdf_reader.getPage(4)\n",
    "\n",
    "3. What PdfFileReader variable stores the number of pages in the PDF document?\n",
    "\n",
    "The numPages variable of a PdfFileReader object stores the number of pages in the PDF document. It can be accessed as follows: num_pages = pdf_reader.numPages\n",
    "\n",
    "4. If a PdfFileReader object’s PDF is encrypted with the password swordfish, what must you do before you can obtain Page objects from it?\n",
    "\n",
    "If a PdfFileReader object's PDF is encrypted with the password 'swordfish', you must decrypt it using the decrypt() method and passing the password as an argument: \n",
    "pdf_reader.decrypt('swordfish')\n",
    "\n",
    "5. What methods do you use to rotate a page?\n",
    "\n",
    "To rotate a page, you can use the rotateClockwise() or rotateCounterClockwise() methods of a Page object. For example, to rotate a page by 90 degrees clockwise, you can do:\n",
    "page.rotateClockwise(90)\n",
    "\n",
    "6. What is the difference between a Run object and a Paragraph object?\n",
    "\n",
    "A Paragraph object represents a single paragraph of text in a Word document, while a Run object represents a contiguous run of text with the same formatting.\n",
    "\n",
    "7. How do you obtain a list of Paragraph objects for a Document object that’s stored in a variable named doc?\n",
    "\n",
    "To obtain a list of Paragraph objects for a Document object stored in a variable named doc, you can use the paragraphs attribute of the Document object: \n",
    "paragraphs = doc.paragraphs\n",
    "\n",
    "8. What type of object has bold, underline, italic, strike, and outline variables?\n",
    "\n",
    "A Run object has bold, underline, italic, strike, and outline variables as formatting properties.\n",
    "\n",
    "9. What is the difference between False, True, and None for the bold variable?\n",
    "\n",
    "The bold variable can be set to True or False to indicate whether the text should be bolded or not. None can also be used as a value for this variable, in which case it will inherit the boldness setting from its containing object.\n",
    "\n",
    "10. How do you create a Document object for a new Word document?\n",
    "To create a Document object for a new Word document, you can use the docx.Document() constructor: doc = docx.Document()\n",
    "\n",
    "11. How do you add a paragraph with the text 'Hello, there!' to a Document object stored in a variable named doc?\n",
    "\n",
    "To add a paragraph with the text 'Hello, there!' to a Document object stored in a variable named doc, you can use the add_paragraph() method of the Document object: doc.add_paragraph('Hello, there!')\n",
    "\n",
    "12. What integers represent the levels of headings available in Word documents?\n",
    "\n",
    "The integer values for the levels of headings available in Word documents are 0 to 8, where 0 is for the title and 1 to 8 are for various levels of headings.\n"
   ]
  }
 ],
 "metadata": {
  "kernelspec": {
   "display_name": "Python 3",
   "language": "python",
   "name": "python3"
  },
  "language_info": {
   "codemirror_mode": {
    "name": "ipython",
    "version": 3
   },
   "file_extension": ".py",
   "mimetype": "text/x-python",
   "name": "python",
   "nbconvert_exporter": "python",
   "pygments_lexer": "ipython3",
   "version": "3.8.5"
  }
 },
 "nbformat": 4,
 "nbformat_minor": 4
}
