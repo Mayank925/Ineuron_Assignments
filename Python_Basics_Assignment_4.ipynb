{
 "cells": [
  {
   "cell_type": "markdown",
   "metadata": {},
   "source": [
    "1. What exactly is []?\n",
    "Ans : Square brackets are used to create a list. Lists are ordered collections of elements and can contain elements of different data types, including other lists. For example: \n",
    "Colour = [\"Black, \"Yellow\"]"
   ]
  },
  {
   "cell_type": "code",
   "execution_count": 1,
   "metadata": {},
   "outputs": [
    {
     "name": "stdout",
     "output_type": "stream",
     "text": [
      "[2, 4, 'hello', 8, 10]\n"
     ]
    }
   ],
   "source": [
    "# 2. In a list of values stored in a variable called spam, \n",
    "# how would you assign the value 'hello' as the third value? (Assume [2, 4, 6, 8, 10] are in spam.)\n",
    "# Ans: You can assign a value to an element in a list by using the index of the element in square brackets.\n",
    "# To assign the value 'hello' as the third value in the list stored in the spam variable, you can use the following code:\n",
    "spam = [2, 4, 6, 8, 10]\n",
    "spam[2] = 'hello'\n",
    "print(spam) \n",
    "\n",
    "# Output: [2, 4, 'hello', 8, 10]"
   ]
  },
  {
   "cell_type": "markdown",
   "metadata": {},
   "source": [
    "Let's pretend the spam includes the list ['a', 'b', 'c', 'd'] for the next three queries.\n",
    "3. What is the value of spam[int(int('3' * 2) / 11)]?\n",
    "Ans:\n",
    "'3' * 2 evaluates to '33'.\n",
    "int('33') evaluates to 33.\n",
    "33 / 11 evaluates to 3.\n",
    "int(3) evaluates to 3.\n",
    "Finally, spam[3] evaluates to 'd'.\n",
    "\n",
    "4. What is the value of spam[-1]?\n",
    "Ans: The value of spam[-1] is 'd'.\n",
    "\n",
    "5. What is the value of spam[:2]?\n",
    "Ans: The value of spam[:2] is ['a', 'b']."
   ]
  },
  {
   "cell_type": "markdown",
   "metadata": {},
   "source": [
    "Let's pretend bacon has the list [3.14, 'cat,' 11, 'cat,' True] for the next three questions.\n",
    "6. What is the value of bacon.index('cat')?\n",
    "Ans: The value of bacon.index('cat') is 1.\n",
    "\n",
    "7. How does bacon.append(99) change the look of the list value in bacon?\n",
    "Ans: bacon would look like this: [3.14, 'cat', 11, 'cat', True, 99].\n",
    "\n",
    "\n",
    "8. How does bacon.remove('cat') change the look of the list in bacon?\n",
    "Ans: [3.14, 11, 'cat', True]"
   ]
  },
  {
   "cell_type": "code",
   "execution_count": 3,
   "metadata": {},
   "outputs": [
    {
     "name": "stdout",
     "output_type": "stream",
     "text": [
      "[1, 2, 3, 4, 5, 6]\n",
      "[1, 2, 3, 1, 2, 3, 1, 2, 3]\n"
     ]
    }
   ],
   "source": [
    "# 9. What are the list concatenation and list replication operators?\n",
    "# Ans: List Concatenation: The + operator can be used to concatenate two or more lists. \n",
    "# The result is a new list that contains all elements from the original lists in the order in which they appear. For example:\n",
    "list1 = [1, 2, 3]\n",
    "list2 = [4, 5, 6]\n",
    "list3 = list1 + list2\n",
    "print(list3) \n",
    "# Output: [1, 2, 3, 4, 5, 6]\n",
    "\n",
    "# List Replication: The * operator can be used to replicate a list a specified number of times. For example:\n",
    "list1 = [1, 2, 3]\n",
    "list2 = list1 * 3\n",
    "print(list2) \n",
    "# Output: [1, 2, 3, 1, 2, 3, 1, 2, 3]"
   ]
  },
  {
   "cell_type": "markdown",
   "metadata": {},
   "source": [
    "10. What is difference between the list methods append() and insert()?\n",
    "Ans: \n",
    "1. append: The append method adds an element to the end of a list. It only takes one argument, which is the element to be added. For example:\n",
    "a = [1, 2, 3]\n",
    "a.append(4)\n",
    "print(a)\n",
    "[1, 2, 3, 4]\n",
    "\n",
    "2. insert: The insert method adds an element to a specified position in a list. It takes two arguments: the first is the index at which to insert the element, and the second is the element to be added. For example:\n",
    "a = [1, 2, 3]\n",
    "a.insert(1, 4)\n",
    "print(a)\n",
    "[1, 4, 2, 3]"
   ]
  },
  {
   "cell_type": "markdown",
   "metadata": {},
   "source": [
    "11. What are the two methods for removing items from a list?\n",
    "Ans: \n",
    "1. remove: The remove method removes the first occurrence of a specified element from a list. For example:\n",
    "a = [1, 2, 3, 4, 2]\n",
    "a.remove(2)\n",
    "print(a)\n",
    "[1, 3, 4, 2]\n",
    "\n",
    "2. pop: The pop method removes the element at a specified index in a list and returns the removed element. If no index is specified, it removes the last element. For example:\n",
    "a = [1, 2, 3, 4]\n",
    "a.pop(1)\n",
    "print(a)\n",
    "[1, 3, 4]"
   ]
  },
  {
   "cell_type": "markdown",
   "metadata": {},
   "source": [
    "12. Describe how list values and string values are identical.\n",
    "Ans: lists and strings are similar in that they are both sequences of values. They can both be indexed, sliced, and iterated over in similar ways, and they can both be combined using the + operator. Additionally, lists can be converted to strings using the str function, and strings can be converted to lists using the list function."
   ]
  },
  {
   "cell_type": "markdown",
   "metadata": {},
   "source": [
    "13. What's the difference between tuples and lists?\n",
    "Ans: Tuples and lists are both used to store collections of items in Python, but there are some important differences between them:\n",
    "\n",
    "Immutability: The main difference between tuples and lists is that tuples are immutable, meaning that their values cannot be changed after they are created, while lists are mutable, meaning that their values can be changed.\n",
    "\n",
    "Syntax: Another difference between tuples and lists is the syntax used to create them. Tuples are created using parentheses ( ), while lists are created using square brackets [ ].\n",
    "\n",
    "Use cases: Tuples are often used to store collections of values that should not be changed, such as coordinate points or dates, while lists are used to store collections of values that may need to be changed, such as lists of numbers or names."
   ]
  },
  {
   "cell_type": "code",
   "execution_count": 5,
   "metadata": {},
   "outputs": [
    {
     "name": "stdout",
     "output_type": "stream",
     "text": [
      "(42,)\n",
      "<class 'tuple'>\n"
     ]
    }
   ],
   "source": [
    "# 14. How do you type a tuple value that only contains the integer 42?\n",
    "# Ans: \n",
    "t = (42,)\n",
    "print(t)\n",
    "print(type(t))\n",
    "# Output(42,)\n"
   ]
  },
  {
   "cell_type": "markdown",
   "metadata": {},
   "source": [
    "15. How do you get a list value's tuple form? How do you get a tuple value's list form?\n",
    "Ans: To convert a list value to its tuple form, you can use the tuple function and To convert a tuple value to its list form, you can use the list function:\n",
    "a = [1, 2, 3]\n",
    "b = tuple(a)\n",
    "print(b)\n",
    "(1, 2, 3)\n",
    "\n",
    "a = (1, 2, 3)\n",
    "b = list(a)\n",
    "print(b)\n",
    "[1, 2, 3]"
   ]
  },
  {
   "cell_type": "markdown",
   "metadata": {},
   "source": [
    "16. Variables that \"contain\" list values are not necessarily lists themselves. Instead, what do they contain?\n",
    "Ans: When a list is assigned to a variable, the variable holds a reference to the list, not the values contained in the list. This means that if you have multiple variables referencing the same list, changes made to the list through one variable will be reflected in all other variables that reference the same list.\n",
    "For example:\n",
    "a = [1, 2, 3]\n",
    "b = a\n",
    "print(b)\n",
    "[1, 2, 3]\n",
    "a.append(4)\n",
    "print(b)\n",
    "[1, 2, 3, 4]"
   ]
  },
  {
   "cell_type": "markdown",
   "metadata": {},
   "source": [
    "17. How do you distinguish between copy.copy() and copy.deepcopy()?\n",
    "Ans: In general, copy.copy() is used when you want to create a new object that is a copy of an existing object, but you don't want to change the original object. copy.deepcopy() is used when you want to create a completely independent copy of an object, including all of its elements, and you don't want any changes made to the new object to affect the original object."
   ]
  }
 ],
 "metadata": {
  "kernelspec": {
   "display_name": "Python 3",
   "language": "python",
   "name": "python3"
  },
  "language_info": {
   "codemirror_mode": {
    "name": "ipython",
    "version": 3
   },
   "file_extension": ".py",
   "mimetype": "text/x-python",
   "name": "python",
   "nbconvert_exporter": "python",
   "pygments_lexer": "ipython3",
   "version": "3.8.5"
  }
 },
 "nbformat": 4,
 "nbformat_minor": 4
}
