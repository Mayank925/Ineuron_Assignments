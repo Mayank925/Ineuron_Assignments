{
 "cells": [
  {
   "cell_type": "markdown",
   "metadata": {},
   "source": [
    "1. Is the Python Standard Library included with PyInputPlus?\n",
    "Sol : No, the Python Standard Library is not included with PyInputPlus. PyInputPlus is a third-party library that needs to be installed separately.\n",
    "\n",
    "2. Why is PyInputPlus commonly imported with import pyinputplus as pypi?\n",
    "PyInputPlus is commonly imported with the alias \"pypi\" to make it easier and quicker to type out the name when using its functions and methods.\n",
    "\n",
    "3. How do you distinguish between inputInt() and inputFloat()?\n",
    "inputInt() is used to get an integer value from the user, while inputFloat() is used to get a floating-point value from the user.\n",
    "\n",
    "4. Using PyInputPlus, how do you ensure that the user enters a whole number between 0 and 99?\n",
    "To ensure that the user enters a whole number between 0 and 99 using PyInputPlus, you can use the inputInt() function with the arguments min=0 and max=99, like this: pyinputplus.inputInt(prompt='Enter a number between 0 and 99: ', min=0, max=99)\n",
    "\n",
    "5. What is transferred to the keyword arguments allowRegexes and blockRegexes?\n",
    "The allowRegexes and blockRegexes keyword arguments are used to transfer regular expression patterns that the input must match or must not match, respectively.\n",
    "\n",
    "6. If a blank input is entered three times, what does inputStr(limit=3) do?\n",
    "If a blank input is entered three times with inputStr(limit=3), a RetryLimitException will be raised, indicating that the user has exceeded the maximum number of retries.\n",
    "\n",
    "7. If blank input is entered three times, what does inputStr(limit=3, default='hello') do?\n",
    "If blank input is entered three times with inputStr(limit=3, default='hello'), the default value of 'hello' will be returned instead of raising a RetryLimitException."
   ]
  }
 ],
 "metadata": {
  "kernelspec": {
   "display_name": "Python 3",
   "language": "python",
   "name": "python3"
  },
  "language_info": {
   "codemirror_mode": {
    "name": "ipython",
    "version": 3
   },
   "file_extension": ".py",
   "mimetype": "text/x-python",
   "name": "python",
   "nbconvert_exporter": "python",
   "pygments_lexer": "ipython3",
   "version": "3.8.5"
  }
 },
 "nbformat": 4,
 "nbformat_minor": 4
}
