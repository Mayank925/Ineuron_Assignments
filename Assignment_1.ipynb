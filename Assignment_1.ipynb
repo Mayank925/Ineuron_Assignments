{
 "cells": [
  {
   "cell_type": "markdown",
   "metadata": {},
   "source": [
    "Question 1 :\n",
    "\n",
    "   (*)  =  Expression\n",
    "   \n",
    "   'hello' = Value\n",
    "   \n",
    "   -87.8  = Value \n",
    "   \n",
    "   (-)  = Expression\n",
    "   \n",
    "   (/) = Expression\n",
    "   \n",
    "   (+) = Expression\n",
    "   \n",
    "   6  = Value "
   ]
  },
  {
   "cell_type": "markdown",
   "metadata": {},
   "source": [
    "Question 2 :\n",
    "\n",
    "Strings  =   Strings are a type of data which are simply a sequence of characters. For eg. \"Mayank\", \"Two\", '23'. The characters              can be anything from alphabetical characters or numbers.\n",
    "             To declare a string we have to enclose the data inside a ' ', \" \".\n",
    "           \n",
    "Variables =  Variables are basically something that holds a value or store imformation. String is a type of information that we              would store in a varibale. For eg. x = 10, y = 20"
   ]
  },
  {
   "cell_type": "markdown",
   "metadata": {},
   "source": [
    "Question 3 :\n",
    "\n",
    "Numeric Datatypes  = It basically represents the data which has a numerical value. The numerical value can be integar (positive                      or negetive whole numbers like 45, -76), Float (decimal numbers like 2.5, -7.6), Complex ( complex numbers                      like 3 + 5j)\n",
    "\n",
    "Sequence Datatypes = These datatypes simply represents the ordered or unordered collection of data which are organized in an                          efficient way. Strings, List and Tuples are the types of sequennce datatypes.\n",
    "                     \n",
    "                    Strings = Strings are a type of data which are simply a sequence of characters. For eg. \"Mayank\", \"Two\",                                  '23'.The characters can be anything from alphabetical characters or numbers.\n",
    "                     \n",
    "                     list  =   A list is created by placing all the items (elements) inside square brackets [], separated by                                    commas.It can have any number of items and they may be of different types (integer, float, string                                etc.). Eg. [1,2,3,4,5,6,8]\n",
    "                     \n",
    "                     Tuples =  Just like list, tuple is also an ordered collection of Python objects. The only difference                                      between type and list is that tuples are immutable i.e. tuples cannot be modified after it is                                    created. It is represented by tuple class. Eg. (1,2,3,4,5)\n",
    "\n",
    "Dictionary          = Unlike other datatypes, Dictionary holds the data in a Key:value pair. Each key-value pair in a Dictionary                       is separated by a colon :, whereas each key is separated by a ‘comma’.\n",
    "                      For eg. { 'x':12, 'y' : 13}\n"
   ]
  },
  {
   "cell_type": "markdown",
   "metadata": {},
   "source": [
    "Question 4 :\n",
    "\n",
    "An expression is simply a representation of values, variables, operaters etc. If we type an expression in the command prompt the interpreter evaluates the expression and displays the result.\n",
    "For eg. 1 + 1, 2 ** 3\n",
    "    "
   ]
  },
  {
   "cell_type": "markdown",
   "metadata": {},
   "source": [
    "Question 5 :\n",
    "\n",
    "An expression is simply a representation of values, variables, operaters etc. It simply produces values and we can assign these values to new variables.Whereas, a statement performs some action such as printing values, looping, or if statement.\n",
    "For example : 1 + 3 ** 2         (expression)\n",
    "              print(1 + 3 ** 2)  (Statement)"
   ]
  },
  {
   "cell_type": "code",
   "execution_count": 4,
   "metadata": {},
   "outputs": [
    {
     "data": {
      "text/plain": [
       "23"
      ]
     },
     "execution_count": 4,
     "metadata": {},
     "output_type": "execute_result"
    }
   ],
   "source": [
    "## Question 6 :\n",
    "### bacon = 22, bacon + 1 will evaluate to 23\n",
    "bacon = 22\n",
    "bacon + 1"
   ]
  },
  {
   "cell_type": "code",
   "execution_count": 6,
   "metadata": {},
   "outputs": [
    {
     "name": "stdout",
     "output_type": "stream",
     "text": [
      "spamspamspam\n",
      "spamspamspam\n"
     ]
    }
   ],
   "source": [
    "## Question 7 :\n",
    "### 'spam' + 'spamspam' = 'spamspamspam'\n",
    "### 'spam' * 3  = 'spamspamspam'\n",
    "print('spam' + 'spamspam')\n",
    "print('spam' * 3) "
   ]
  },
  {
   "cell_type": "markdown",
   "metadata": {},
   "source": [
    "Question 8 :\n",
    "\n",
    "A variable name cannot start with a number. That is why 100 is invalid\n",
    "    \n",
    "    "
   ]
  },
  {
   "cell_type": "markdown",
   "metadata": {},
   "source": [
    "Question 9 :\n",
    "\n",
    "Integar   =   int()\n",
    "Floating  =   float()\n",
    "String    =   str()"
   ]
  },
  {
   "cell_type": "code",
   "execution_count": 12,
   "metadata": {},
   "outputs": [
    {
     "data": {
      "text/plain": [
       "'I have eaten 99 burritos'"
      ]
     },
     "execution_count": 12,
     "metadata": {},
     "output_type": "execute_result"
    }
   ],
   "source": [
    "## Question 10 :\n",
    "## 'I have eaten' + 99 + 'burritos' causes an error. To fix this error we have to convert 99 to a string data type \n",
    "##  because during concatenation all elements should be of same data type\n",
    "\n",
    "'I have eaten' + ' 99 ' + 'burritos'"
   ]
  }
 ],
 "metadata": {
  "kernelspec": {
   "display_name": "Python 3",
   "language": "python",
   "name": "python3"
  },
  "language_info": {
   "codemirror_mode": {
    "name": "ipython",
    "version": 3
   },
   "file_extension": ".py",
   "mimetype": "text/x-python",
   "name": "python",
   "nbconvert_exporter": "python",
   "pygments_lexer": "ipython3",
   "version": "3.8.5"
  }
 },
 "nbformat": 4,
 "nbformat_minor": 4
}
