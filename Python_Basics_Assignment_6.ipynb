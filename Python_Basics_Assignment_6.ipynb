{
 "cells": [
  {
   "cell_type": "markdown",
   "metadata": {},
   "source": [
    "1. What are escape characters, and how do you use them?\n",
    "Ans: Escape characters are characters in a string that are preceded by a backslash (\\) and have special meaning.\n",
    "They are used to represent special characters, such as line breaks and quotes, within a string.\n",
    "\\n: Represents a newline character\n",
    "\\t: Represents a tab character\n",
    "\\\\: Represents a single backslash\n",
    "\\': Represents a single quote\n",
    "\\\": Represents a double quote\n",
    "print(\"Hello\\tworld!\")\n",
    "Hello\tworld!"
   ]
  },
  {
   "cell_type": "markdown",
   "metadata": {},
   "source": [
    "2. What do the escape characters n and t stand for?\n",
    "Ans: The \\n escape character is used to represent a newline character, which is a special character used to separate lines of text. In Python, when you print a string containing a \\n escape character, the text following the escape character will be printed on a new line.\n",
    "\n",
    "The \\t escape character is used to represent a tab character, which is used to separate text into columns. In Python, when you print a string containing a \\t escape character, the text following the escape character will be indented by a tab space."
   ]
  },
  {
   "cell_type": "code",
   "execution_count": 1,
   "metadata": {},
   "outputs": [
    {
     "name": "stdout",
     "output_type": "stream",
     "text": [
      "This is a backslash: \\\\\n"
     ]
    }
   ],
   "source": [
    "# 3. What is the way to include backslash characters in a string?\n",
    "# Ans : To include a backslash character in a string, you need to escape it with another backslash.\n",
    "# This is because the backslash character is used as an escape character in strings.\n",
    "\n",
    "# For example, to include a single backslash character in a string, you can write it as \\\\.\n",
    "print(\"This is a backslash: \\\\\\\\\")"
   ]
  },
  {
   "cell_type": "markdown",
   "metadata": {},
   "source": [
    "4. The string \"Howl's Moving Castle\" is a correct value. Why isn't the single quote character in the word Howl's not escaped a problem?\n",
    "Ans: The string \"Howl's Moving Castle\" is a correct value because it is surrounded by double quotes, so the single quote character within the string is not interpreted as the end of the string."
   ]
  },
  {
   "cell_type": "code",
   "execution_count": 2,
   "metadata": {},
   "outputs": [
    {
     "name": "stdout",
     "output_type": "stream",
     "text": [
      "Howl's Moving Castle\n",
      "... is a great movie.\n"
     ]
    }
   ],
   "source": [
    "# 5. How do you write a string of newlines if you don't want to use the n character?\n",
    "# Ans: We can use triple quotes (either single quotes or double quotes) to define a string that spans multiple lines.\n",
    "spam = \"\"\"Howl's Moving Castle\n",
    "... is a great movie.\"\"\"\n",
    "\n",
    "print(spam)\n",
    "\n",
    "# Howl's Moving Castle\n",
    "# is a great movie.\n"
   ]
  },
  {
   "cell_type": "markdown",
   "metadata": {},
   "source": [
    "6. What are the values of the given expressions?\n",
    "'Hello, world!'[1] = 'e'\n",
    "'Hello, world!'[0:5] = 'Hello'\n",
    "'Hello, world!'[:5] = 'Hello'\n",
    "'Hello, world!'[3:] = 'lo, world!'"
   ]
  },
  {
   "cell_type": "markdown",
   "metadata": {},
   "source": [
    "7. What are the values of the following expressions?\n",
    "'Hello'.upper() -> 'HELLO'\n",
    "'Hello'.upper().isupper()  -> True\n",
    "'Hello'.upper().lower() -> 'hello'"
   ]
  },
  {
   "cell_type": "markdown",
   "metadata": {},
   "source": [
    "8. What are the values of the following expressions?\n",
    "'Remember, remember, the fifth of July.'.split() = ['Remember,', 'remember,', 'the', 'fifth', 'of', 'July.'].\n",
    "'-'.join('There can only one.'.split()) = 'There-can-only-one.'"
   ]
  },
  {
   "cell_type": "markdown",
   "metadata": {},
   "source": [
    "9. What are the methods for right-justifying, left-justifying, and centering a string?\n",
    "Ans: The methods for right-justifying, left-justifying, and centering a string in Python are rjust(), ljust(), and center()"
   ]
  },
  {
   "cell_type": "markdown",
   "metadata": {},
   "source": [
    "10. What is the best way to remove whitespace characters from the start or end?\n",
    "Ans: The best way to remove whitespace characters from the start or end of a string is to use the strip() method. The strip() method removes all leading and trailing whitespace characters, including spaces, tabs, and newlines."
   ]
  }
 ],
 "metadata": {
  "kernelspec": {
   "display_name": "Python 3",
   "language": "python",
   "name": "python3"
  },
  "language_info": {
   "codemirror_mode": {
    "name": "ipython",
    "version": 3
   },
   "file_extension": ".py",
   "mimetype": "text/x-python",
   "name": "python",
   "nbconvert_exporter": "python",
   "pygments_lexer": "ipython3",
   "version": "3.8.5"
  }
 },
 "nbformat": 4,
 "nbformat_minor": 4
}
