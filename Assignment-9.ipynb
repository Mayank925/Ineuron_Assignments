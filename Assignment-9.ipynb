{
 "cells": [
  {
   "cell_type": "raw",
   "metadata": {},
   "source": [
    "1. To what does a relative path refer?\n",
    "\n",
    "A relative path refers to a file or directory location relative to the current working directory.\n",
    "\n",
    "2. What does an absolute path start with your operating system?\n",
    "\n",
    "An absolute path starts with the root directory of the operating system. On Windows, it starts with a drive letter followed by a colon, such as C:\\ on the C drive.\n",
    "\n",
    "3. What do the functions os.getcwd() and os.chdir() do?\n",
    "\n",
    "os.getcwd() returns the current working directory, and os.chdir() changes the current working directory to the specified path.\n",
    "\n",
    "4. What are the . and .. folders?\n",
    "\n",
    ". refers to the current directory, and .. refers to the parent directory.\n",
    "\n",
    "5. In C:\\bacon\\eggs\\spam.txt, which part is the dir name, and which part is the base name?\n",
    "\n",
    "C:\\bacon\\eggs is the dir name, and spam.txt is the base name.\n",
    "\n",
    "6. What are the three “mode” arguments that can be passed to the open() function?\n",
    "\n",
    "The three mode arguments are: 'r' for read mode (default), 'w' for write mode, and 'a' for append mode.\n",
    "\n",
    "7. What happens if an existing file is opened in write mode?\n",
    "\n",
    "If an existing file is opened in write mode, its contents are truncated (deleted) and the file is treated as a new empty file.\n",
    "\n",
    "8. How do you tell the difference between read() and readlines()?\n",
    "\n",
    "read() returns the entire contents of a file as a single string, while readlines() returns a list of strings, where each string represents a line in the file.\n",
    "\n",
    "9. What data structure does a shelf value resemble?\n",
    "\n",
    "A shelf value in Python resembles a dictionary data structure, where the keys and values are stored in a file on disk."
   ]
  }
 ],
 "metadata": {
  "kernelspec": {
   "display_name": "Python 3",
   "language": "python",
   "name": "python3"
  },
  "language_info": {
   "codemirror_mode": {
    "name": "ipython",
    "version": 3
   },
   "file_extension": ".py",
   "mimetype": "text/x-python",
   "name": "python",
   "nbconvert_exporter": "python",
   "pygments_lexer": "ipython3",
   "version": "3.8.5"
  }
 },
 "nbformat": 4,
 "nbformat_minor": 4
}
