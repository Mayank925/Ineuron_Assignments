{
 "cells": [
  {
   "cell_type": "code",
   "execution_count": 1,
   "metadata": {},
   "outputs": [
    {
     "name": "stdout",
     "output_type": "stream",
     "text": [
      "{}\n"
     ]
    }
   ],
   "source": [
    "# 1. What does an empty dictionary's code look like?\n",
    "# Ans: An empty dictionary in Python is represented using curly braces {} with nothing inside.\n",
    "empty_dict = {}\n",
    "print(empty_dict)\n",
    "# Out: {}\n"
   ]
  },
  {
   "cell_type": "code",
   "execution_count": 2,
   "metadata": {},
   "outputs": [
    {
     "name": "stdout",
     "output_type": "stream",
     "text": [
      "{'foo': 42}\n",
      "42\n"
     ]
    }
   ],
   "source": [
    "# 2. What is the value of a dictionary value with the key 'foo' and the value 42?\n",
    "# Ans:\n",
    "my_dict = {'foo': 42}\n",
    "print(my_dict)\n",
    "# {'foo': 42}\n",
    "print(my_dict['foo'])\n",
    "# 42"
   ]
  },
  {
   "cell_type": "markdown",
   "metadata": {},
   "source": [
    "3. What is the most significant distinction between a dictionary and a list?\n",
    "Ans: The most significant distinction between a dictionary and a list in Python is that a list is ordered and a dictionary is unordered.\n",
    "In a list, each item has an index, and items are stored in a specific order. You can access items in a list by their index, and the order of items in a list is preserved.\n",
    "In a dictionary, items are stored as key-value pairs, and they do not have a specific order. You access the values in a dictionary using their keys, not their indices. The keys in a dictionary must be unique, and they are used to associate values with specific keys."
   ]
  },
  {
   "cell_type": "code",
   "execution_count": 3,
   "metadata": {},
   "outputs": [
    {
     "ename": "KeyError",
     "evalue": "'foo'",
     "output_type": "error",
     "traceback": [
      "\u001b[1;31m---------------------------------------------------------------------------\u001b[0m",
      "\u001b[1;31mKeyError\u001b[0m                                  Traceback (most recent call last)",
      "\u001b[1;32m<ipython-input-3-74e3ad1c8219>\u001b[0m in \u001b[0;36m<module>\u001b[1;34m\u001b[0m\n\u001b[0;32m      4\u001b[0m \u001b[1;31m# This error occurs because the key 'foo' does not exist in the dictionary spam.\u001b[0m\u001b[1;33m\u001b[0m\u001b[1;33m\u001b[0m\u001b[1;33m\u001b[0m\u001b[0m\n\u001b[0;32m      5\u001b[0m \u001b[0mspam\u001b[0m \u001b[1;33m=\u001b[0m \u001b[1;33m{\u001b[0m\u001b[1;34m'bar'\u001b[0m\u001b[1;33m:\u001b[0m \u001b[1;36m100\u001b[0m\u001b[1;33m}\u001b[0m\u001b[1;33m\u001b[0m\u001b[1;33m\u001b[0m\u001b[0m\n\u001b[1;32m----> 6\u001b[1;33m \u001b[0mprint\u001b[0m\u001b[1;33m(\u001b[0m\u001b[0mspam\u001b[0m\u001b[1;33m[\u001b[0m\u001b[1;34m'foo'\u001b[0m\u001b[1;33m]\u001b[0m\u001b[1;33m)\u001b[0m\u001b[1;33m\u001b[0m\u001b[1;33m\u001b[0m\u001b[0m\n\u001b[0m\u001b[0;32m      7\u001b[0m \u001b[1;31m# Traceback (most recent call last):\u001b[0m\u001b[1;33m\u001b[0m\u001b[1;33m\u001b[0m\u001b[1;33m\u001b[0m\u001b[0m\n\u001b[0;32m      8\u001b[0m \u001b[1;31m#   File \"<stdin>\", line 1, in <module>\u001b[0m\u001b[1;33m\u001b[0m\u001b[1;33m\u001b[0m\u001b[1;33m\u001b[0m\u001b[0m\n",
      "\u001b[1;31mKeyError\u001b[0m: 'foo'"
     ]
    }
   ],
   "source": [
    "# 4. What happens if you try to access spam['foo'] if spam is {'bar': 100}?\n",
    "# If you try to access the value associated with the key 'foo' in the dictionary spam which has the value {'bar': 100}, \n",
    "# a KeyError will be raised.\n",
    "# This error occurs because the key 'foo' does not exist in the dictionary spam.\n",
    "spam = {'bar': 100}\n",
    "print(spam['foo'])\n",
    "# Traceback (most recent call last):\n",
    "#   File \"<stdin>\", line 1, in <module>\n",
    "# KeyError: 'foo'"
   ]
  },
  {
   "cell_type": "markdown",
   "metadata": {},
   "source": [
    "5. If a dictionary is stored in spam, what is the difference between the expressions 'cat' in spam and 'cat' in spam.keys()?\n",
    "Ans: The expression 'cat' in spam checks if the string 'cat' is a key in the dictionary spam. If the key 'cat' exists in the dictionary, this expression will evaluate to True, otherwise it will evaluate to False.\n",
    "\n",
    "The expression 'cat' in spam.keys() checks if the string 'cat' is a key in the dictionary spam, but it does so by calling the keys method to return a list of all the keys in the dictionary, and then checking if the string 'cat' is in that list of keys."
   ]
  },
  {
   "cell_type": "markdown",
   "metadata": {},
   "source": [
    "6. If a dictionary is stored in spam, what is the difference between the expressions 'cat' in spam and 'cat' in spam.values()?\n",
    "Ans: The expression 'cat' in spam checks if the string 'cat' is a key in the dictionary spam. If the key 'cat' exists in the dictionary, this expression will evaluate to True, otherwise it will evaluate to False.\n",
    "\n",
    "The expression 'cat' in spam.values() checks if the string 'cat' is a value in the dictionary spam, but it does so by calling the values method to return a list of all the values in the dictionary, and then checking if the string 'cat' is in that list of values."
   ]
  },
  {
   "cell_type": "code",
   "execution_count": 4,
   "metadata": {},
   "outputs": [],
   "source": [
    "# 7. What is a shortcut for the following code?\n",
    "# if 'color' not in spam:\n",
    "# spam['color'] = 'black'\n",
    "\n",
    "spam['color'] = spam.get('color', 'black')"
   ]
  },
  {
   "cell_type": "code",
   "execution_count": 5,
   "metadata": {},
   "outputs": [
    {
     "name": "stdout",
     "output_type": "stream",
     "text": [
      "{'description': 'fat', 'name': 'Zophie', 'species': 'cat'}\n"
     ]
    }
   ],
   "source": [
    "# 8. How do you \"pretty print\" dictionary values using which module and function?\n",
    "# Ans: To \"pretty print\" a dictionary value, you can use the pprint function from the pprint module in Python\n",
    "from pprint import pprint\n",
    "\n",
    "spam = {'name': 'Zophie', 'species': 'cat', 'description': 'fat'}\n",
    "pprint(spam)\n"
   ]
  }
 ],
 "metadata": {
  "kernelspec": {
   "display_name": "Python 3",
   "language": "python",
   "name": "python3"
  },
  "language_info": {
   "codemirror_mode": {
    "name": "ipython",
    "version": 3
   },
   "file_extension": ".py",
   "mimetype": "text/x-python",
   "name": "python",
   "nbconvert_exporter": "python",
   "pygments_lexer": "ipython3",
   "version": "3.8.5"
  }
 },
 "nbformat": 4,
 "nbformat_minor": 4
}
