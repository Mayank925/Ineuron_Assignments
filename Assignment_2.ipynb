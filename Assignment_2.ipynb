{
 "cells": [
  {
   "cell_type": "markdown",
   "metadata": {},
   "source": [
    "Solution 1 :\n",
    "\n",
    "Two values of Boolean datatypes are True and False.\n",
    "They are written as True and False"
   ]
  },
  {
   "cell_type": "markdown",
   "metadata": {},
   "source": [
    "Solution 2 :\n",
    "\n",
    "There are 3 types of boolean operators :\n",
    "- AND operator : Returns True if both statements are true\n",
    "- OR operator  : Returns True if one of the statements is true\n",
    "- NOT operator : Reverse the result, returns False if the result is true\n"
   ]
  },
  {
   "cell_type": "markdown",
   "metadata": {},
   "source": [
    "Solution 3 :\n",
    "                  \n",
    "- AND operator :  \n",
    "                   X             Y               Result\n",
    "                  True          True             True   \n",
    "                  True          False            False\n",
    "                  False         True             False\n",
    "                  False         False            False\n",
    "                  \n",
    "- OR operator :\n",
    "                  X             Y               Result\n",
    "                  True          True             True   \n",
    "                  True          False            True\n",
    "                  False         True             True\n",
    "                  False         False            False\n",
    "                  \n",
    "- NOT opearor: \n",
    "                   X            Result\n",
    "                  True           False   \n",
    "                  False          True\n",
    "                        \n",
    "                  "
   ]
  },
  {
   "cell_type": "code",
   "execution_count": 33,
   "metadata": {},
   "outputs": [
    {
     "name": "stdout",
     "output_type": "stream",
     "text": [
      "False\n",
      "False\n",
      "True\n",
      "False\n",
      "False\n",
      "True\n"
     ]
    }
   ],
   "source": [
    "##Solution 4 :\n",
    "\n",
    "## (5 > 4) and (3 == 5) evalutes to False, not (5 > 4) evalutes to False, (5 > 4) or (3 == 5) evalutes to True\n",
    "## not ((5 > 4) or (3 == 5)) evalutes to False, (True and True) and (True == False) evalutes to False\n",
    "## (not False) or (not True) evalutes to True\n",
    "\n",
    "print((5 > 4) and (3 == 5))\n",
    "print(not (5 > 4))\n",
    "print((5 > 4) or (3 == 5))\n",
    "print(not ((5 > 4) or (3 == 5)))\n",
    "print((True and True) and (True == False))\n",
    "print((not False) or (not True))\n",
    "\n"
   ]
  },
  {
   "cell_type": "markdown",
   "metadata": {},
   "source": [
    "Solution 5 :\n",
    "\n",
    "Six comparision operators are :\n",
    "- less than :       <\n",
    "- greater than :    >\n",
    "- equal to :       == \n",
    "- not equal to :   !=\n",
    "- less than and equal to :     <=\n",
    "- greater than and equal to :  >= "
   ]
  },
  {
   "cell_type": "markdown",
   "metadata": {},
   "source": [
    "Solution 6 :\n",
    "\n",
    "The equal to operator (==) is used to compare two values and determine whether the two values are equal or not. Whereas the \n",
    "assignment operator (=) is used to store values in  variables.\n",
    "example: x == y , x = 3\n",
    "\n",
    "Conditions are used to evaluate expressions or actions in a program and evalutes if it is True or False. Theor conditions are\n",
    "basically used in a flow control statements like If, while, for etc\n",
    "\n",
    "    Example: \n",
    "     if x == 2:\n",
    "         print(hello)"
   ]
  },
  {
   "cell_type": "code",
   "execution_count": 34,
   "metadata": {},
   "outputs": [
    {
     "name": "stdout",
     "output_type": "stream",
     "text": [
      "spam\n"
     ]
    }
   ],
   "source": [
    "## Solution 7 :\n",
    "\n",
    "\n",
    "spam = 0          ## Block 1\n",
    "if spam == 10:    ## Block 1\n",
    "    print('eggs') ## Block 2\n",
    "    if spam > 5:  ## Block 2\n",
    "        print('bacon')  ## Block 3\n",
    "    else:               ## Block 3\n",
    "        print('ham')    ## Block 3\n",
    "    print('spam') ## Block 1\n",
    "print('spam')     ## Block 1\n"
   ]
  },
  {
   "cell_type": "code",
   "execution_count": 35,
   "metadata": {},
   "outputs": [
    {
     "name": "stdout",
     "output_type": "stream",
     "text": [
      "Enter spam = 2\n",
      "Howdy\n"
     ]
    }
   ],
   "source": [
    "## Solution 8 :\n",
    "\n",
    "spam = int(input(\"Enter spam = \"))\n",
    "if spam == 1:\n",
    "    print(\"Hello\")\n",
    "elif spam == 2 :\n",
    "    print(\"Howdy\")\n",
    "else:\n",
    "    print(\"greetings!\")\n"
   ]
  },
  {
   "cell_type": "markdown",
   "metadata": {},
   "source": [
    "Solution 9 :\n",
    "\n",
    "To end the program stuck in an endless loop, we should enter CONTROL + C to terminate the program"
   ]
  },
  {
   "cell_type": "markdown",
   "metadata": {},
   "source": [
    "Solution 10 :\n",
    "    \n",
    "- The Continue statement will take the program execution to the start of the loop.\n",
    "- The Break statement will take the program execution out of the current loop and move over to the next command just after the     loop."
   ]
  },
  {
   "cell_type": "markdown",
   "metadata": {},
   "source": [
    "Solution 11 :\n",
    "\n",
    "- range(10), range(0,10), range(0,10,1) are basicall same in terms of functionality.\n",
    "- range(10) calls to range from 0 to 9 wheras range(0,10) also calls to range from 0 to 9 but it explicitly tells the loop to start from 0.\n",
    "- range (0,10,1) tell the loop to increment variables by 1 on each iteration"
   ]
  },
  {
   "cell_type": "code",
   "execution_count": 30,
   "metadata": {},
   "outputs": [
    {
     "name": "stdout",
     "output_type": "stream",
     "text": [
      "0\n",
      "1\n",
      "2\n",
      "3\n",
      "4\n",
      "5\n",
      "6\n",
      "7\n",
      "8\n",
      "9\n",
      "10\n"
     ]
    }
   ],
   "source": [
    "## Solution 12 (Part 1) :\n",
    "## using For loop:\n",
    "\n",
    "for i in range(11):\n",
    "    print(i)\n",
    "    "
   ]
  },
  {
   "cell_type": "code",
   "execution_count": 32,
   "metadata": {},
   "outputs": [
    {
     "name": "stdout",
     "output_type": "stream",
     "text": [
      "1\n",
      "2\n",
      "3\n",
      "4\n",
      "5\n",
      "6\n",
      "7\n",
      "8\n",
      "9\n",
      "10\n"
     ]
    }
   ],
   "source": [
    "## Solution 12 (Part 2) :\n",
    "## using while loop:\n",
    "i = 0\n",
    "while i < 10:\n",
    "    i = i + 1\n",
    "    print(i)\n",
    "    "
   ]
  },
  {
   "cell_type": "markdown",
   "metadata": {},
   "source": [
    "Solution 13 :\n",
    "\n",
    "- import spam\n",
    "- spam.bacon()"
   ]
  }
 ],
 "metadata": {
  "kernelspec": {
   "display_name": "Python 3",
   "language": "python",
   "name": "python3"
  },
  "language_info": {
   "codemirror_mode": {
    "name": "ipython",
    "version": 3
   },
   "file_extension": ".py",
   "mimetype": "text/x-python",
   "name": "python",
   "nbconvert_exporter": "python",
   "pygments_lexer": "ipython3",
   "version": "3.8.5"
  }
 },
 "nbformat": 4,
 "nbformat_minor": 4
}
