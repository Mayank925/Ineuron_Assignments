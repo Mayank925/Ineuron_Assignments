{
 "cells": [
  {
   "cell_type": "raw",
   "metadata": {},
   "source": [
    "1. Create an assert statement that throws an AssertionError if the variable spam is a negative integer.\n",
    "\n",
    "assert spam >= 0, 'spam should be a non-negative integer'\n",
    "\n",
    "2. Write an assert statement that triggers an AssertionError if the variables eggs and bacon contain strings that are the same as each other, even if their cases are different (that is, 'hello' and 'hello' are considered the same, and 'goodbye' and 'GOODbye' are also considered the same).\n",
    "\n",
    "assert eggs.lower() != bacon.lower(), 'eggs and bacon should not have the same value, regardless of case'\n",
    "\n",
    "3. Create an assert statement that throws an AssertionError every time.\n",
    "assert False, 'This assertion always fails'\n",
    "\n",
    "4. What are the two lines that must be present in your software in order to call logging.debug()?\n",
    "\n",
    "import logging and logging.basicConfig(level=logging.DEBUG)\n",
    "\n",
    "5. What are the two lines that your program must have in order to have logging.debug() send a logging message to a file named programLog.txt?\n",
    "\n",
    "import logging and logging.basicConfig(filename='programLog.txt', level=logging.DEBUG)\n",
    "\n",
    "6. What are the five levels of logging?\n",
    "\n",
    "The five levels of logging, in increasing order of severity, are DEBUG, INFO, WARNING, ERROR, and CRITICAL.\n",
    "\n",
    "7. What line of code would you add to your software to disable all logging messages?\n",
    "\n",
    "logging.disable(logging.CRITICAL)\n",
    "\n",
    "8. Why is using logging messages better than using print() to display the same message?\n",
    "\n",
    "Using logging messages allows for greater flexibility and control over the information that is logged, including the ability to filter and format messages, and to log messages to multiple destinations (such as a file and a console).\n",
    "\n",
    "9. What are the differences between the Step Over, Step In, and Step Out buttons in the debugger?\n",
    "\n",
    "The Step Over button executes the current line and moves to the next line in the current function, while the Step In button moves the debugger into the function call on the current line (if there is one). The Step Out button continues execution until the current function returns and control is passed back to the calling function.\n",
    "\n",
    "10. After you click Continue, when will the debugger stop ?\n",
    "\n",
    "The debugger will stop when it reaches the next breakpoint or encounters an error.\n",
    "\n",
    "11. What is the concept of a breakpoint?\n",
    "\n",
    "A breakpoint is a designated point in the code where the debugger will pause execution and allow the programmer to inspect the current state of the program and step through the code line by line.\n",
    "\n"
   ]
  }
 ],
 "metadata": {
  "kernelspec": {
   "display_name": "Python 3",
   "language": "python",
   "name": "python3"
  },
  "language_info": {
   "codemirror_mode": {
    "name": "ipython",
    "version": 3
   },
   "file_extension": ".py",
   "mimetype": "text/x-python",
   "name": "python",
   "nbconvert_exporter": "python",
   "pygments_lexer": "ipython3",
   "version": "3.8.5"
  }
 },
 "nbformat": 4,
 "nbformat_minor": 4
}
