{
 "cells": [
  {
   "cell_type": "code",
   "execution_count": 1,
   "metadata": {},
   "outputs": [],
   "source": [
    "#Solution_1\n",
    "import datetime\n",
    "\n",
    "current_date = datetime.datetime.now().strftime(\"%Y-%m-%d\")\n",
    "with open(\"today.txt\", \"w\") as file:\n",
    "    file.write(current_date)\n"
   ]
  },
  {
   "cell_type": "code",
   "execution_count": 2,
   "metadata": {},
   "outputs": [],
   "source": [
    "#Solution_2\n",
    "with open(\"today.txt\", \"r\") as file:\n",
    "    today_string = file.read()\n"
   ]
  },
  {
   "cell_type": "code",
   "execution_count": 3,
   "metadata": {},
   "outputs": [],
   "source": [
    "#Solution_3\n",
    "parsed_date = datetime.datetime.strptime(today_string, \"%Y-%m-%d\")\n"
   ]
  },
  {
   "cell_type": "code",
   "execution_count": 4,
   "metadata": {},
   "outputs": [
    {
     "name": "stdout",
     "output_type": "stream",
     "text": [
      "Files in current directory: ['.ipynb_checkpoints', 'Assignmemnt_17_SOL.ipynb', 'Assignment_19_SOL.ipynb', 'Assignment_20_SOL.ipynb', 'Assignment_21_SOL.ipynb', 'books.csv', 'books.db', 'test.txt', 'today.txt']\n"
     ]
    }
   ],
   "source": [
    "#Solution_4\n",
    "import os\n",
    "\n",
    "current_directory_files = os.listdir()\n",
    "print(\"Files in current directory:\", current_directory_files)\n"
   ]
  },
  {
   "cell_type": "code",
   "execution_count": 5,
   "metadata": {},
   "outputs": [
    {
     "name": "stdout",
     "output_type": "stream",
     "text": [
      "Files in parent directory: ['.ipynb_checkpoints', 'Python Basic Assignments', 'Untitled Folder']\n"
     ]
    }
   ],
   "source": [
    "#Solution_5\n",
    "parent_directory_files = os.listdir(\"..\")\n",
    "print(\"Files in parent directory:\", parent_directory_files)\n"
   ]
  },
  {
   "cell_type": "code",
   "execution_count": 6,
   "metadata": {},
   "outputs": [],
   "source": [
    "#Solution_6\n",
    "import random\n",
    "from multiprocessing import Process\n",
    "import datetime\n",
    "\n",
    "def print_current_time():\n",
    "    sleep_time = random.randint(1, 5)\n",
    "    print(f\"Process {os.getpid()} sleeping for {sleep_time} seconds.\")\n",
    "    datetime_now = datetime.datetime.now()\n",
    "    print(f\"Current time: {datetime_now.strftime('%Y-%m-%d %H:%M:%S')}\")\n",
    "    print(\"Process exiting.\")\n",
    "\n",
    "processes = []\n",
    "for _ in range(3):\n",
    "    p = Process(target=print_current_time)\n",
    "    processes.append(p)\n",
    "    p.start()\n",
    "\n",
    "for process in processes:\n",
    "    process.join()\n"
   ]
  },
  {
   "cell_type": "code",
   "execution_count": 7,
   "metadata": {},
   "outputs": [],
   "source": [
    "#Solution_7\n",
    "import datetime\n",
    "\n",
    "date_of_birth = datetime.date(2000, 1, 1)  # Replace with your actual date of birth.\n"
   ]
  },
  {
   "cell_type": "code",
   "execution_count": 8,
   "metadata": {},
   "outputs": [
    {
     "name": "stdout",
     "output_type": "stream",
     "text": [
      "Day of the week of your day of birth: Saturday\n"
     ]
    }
   ],
   "source": [
    "#Solution_8\n",
    "day_of_week = date_of_birth.strftime(\"%A\")\n",
    "print(\"Day of the week of your day of birth:\", day_of_week)\n"
   ]
  },
  {
   "cell_type": "code",
   "execution_count": 9,
   "metadata": {},
   "outputs": [
    {
     "name": "stdout",
     "output_type": "stream",
     "text": [
      "Date when you will be (or were) 10,000 days old: 2027-05-19\n"
     ]
    }
   ],
   "source": [
    "#Solution_9\n",
    "ten_thousand_days_old_date = date_of_birth + datetime.timedelta(days=10000)\n",
    "print(\"Date when you will be (or were) 10,000 days old:\", ten_thousand_days_old_date.strftime(\"%Y-%m-%d\"))\n"
   ]
  },
  {
   "cell_type": "code",
   "execution_count": null,
   "metadata": {},
   "outputs": [],
   "source": []
  }
 ],
 "metadata": {
  "kernelspec": {
   "display_name": "Python 3",
   "language": "python",
   "name": "python3"
  },
  "language_info": {
   "codemirror_mode": {
    "name": "ipython",
    "version": 3
   },
   "file_extension": ".py",
   "mimetype": "text/x-python",
   "name": "python",
   "nbconvert_exporter": "python",
   "pygments_lexer": "ipython3",
   "version": "3.8.5"
  }
 },
 "nbformat": 4,
 "nbformat_minor": 4
}
